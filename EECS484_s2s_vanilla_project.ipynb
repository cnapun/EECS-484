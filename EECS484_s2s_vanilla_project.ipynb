{
 "cells": [
  {
   "cell_type": "code",
   "execution_count": 2,
   "metadata": {
    "ExecuteTime": {
     "end_time": "2018-09-08T16:58:27.739370Z",
     "start_time": "2018-09-08T16:58:27.633625Z"
    }
   },
   "outputs": [],
   "source": [
    "import numpy as np\n",
    "import pandas as pd\n",
    "import matplotlib.pyplot as plt\n",
    "import tensorflow as tf\n",
    "import graph_creation\n",
    "import time\n",
    "import holidays\n",
    "import pickle\n",
    "%matplotlib inline\n",
    "%load_ext autoreload\n",
    "%autoreload 2"
   ]
  },
  {
   "cell_type": "code",
   "execution_count": 4,
   "metadata": {
    "ExecuteTime": {
     "end_time": "2018-09-08T16:58:48.141975Z",
     "start_time": "2018-09-08T16:58:39.896763Z"
    }
   },
   "outputs": [],
   "source": [
    "df = pd.read_excel('GEFCom2014-E.xlsx')\n",
    "df['dow'] = df.Date.apply(lambda x: x.dayofweek)\n",
    "df['doy'] = df.Date.apply(lambda x: x.dayofyear)\n",
    "df['month'] = df.Date.apply(lambda x: x.month)\n",
    "df = df[df.load.isnull().sum():]\n",
    "ush = holidays.US()\n",
    "df['is_holiday'] = 1 * df.Date.apply(lambda x: x in ush)\n",
    "df = df.reindex(columns=('doy', 'month', 'dow', 'Hour', 'is_holiday', 'T', 'load', 'Date'))\n",
    "offset = df.load.mean()\n",
    "scale = df.load.std()\n",
    "df.load -= df.load.mean()\n",
    "df.load /= df.load.std()\n",
    "df['T'] -= df['T'].mean()\n",
    "df['T'] /= df['T'].std()\n",
    "del df['Date'], df['doy']\n",
    "\n",
    "\n",
    "df.month = np.cos(2*np.pi/12*df.month)\n",
    "df.Hour = np.cos(2*np.pi/24*df.Hour)\n",
    "df.dow = np.cos(2*np.pi/7*df.dow)"
   ]
  },
  {
   "cell_type": "code",
   "execution_count": 5,
   "metadata": {
    "ExecuteTime": {
     "end_time": "2018-09-08T16:58:54.185238Z",
     "start_time": "2018-09-08T16:58:54.137454Z"
    }
   },
   "outputs": [
    {
     "data": {
      "text/html": [
       "<div>\n",
       "<style scoped>\n",
       "    .dataframe tbody tr th:only-of-type {\n",
       "        vertical-align: middle;\n",
       "    }\n",
       "\n",
       "    .dataframe tbody tr th {\n",
       "        vertical-align: top;\n",
       "    }\n",
       "\n",
       "    .dataframe thead th {\n",
       "        text-align: right;\n",
       "    }\n",
       "</style>\n",
       "<table border=\"1\" class=\"dataframe\">\n",
       "  <thead>\n",
       "    <tr style=\"text-align: right;\">\n",
       "      <th></th>\n",
       "      <th>month</th>\n",
       "      <th>dow</th>\n",
       "      <th>Hour</th>\n",
       "      <th>is_holiday</th>\n",
       "      <th>T</th>\n",
       "      <th>load</th>\n",
       "    </tr>\n",
       "  </thead>\n",
       "  <tbody>\n",
       "    <tr>\n",
       "      <th>17544</th>\n",
       "      <td>0.866025</td>\n",
       "      <td>0.62349</td>\n",
       "      <td>0.965926</td>\n",
       "      <td>1</td>\n",
       "      <td>-1.297165</td>\n",
       "      <td>-0.513969</td>\n",
       "    </tr>\n",
       "    <tr>\n",
       "      <th>17545</th>\n",
       "      <td>0.866025</td>\n",
       "      <td>0.62349</td>\n",
       "      <td>0.866025</td>\n",
       "      <td>1</td>\n",
       "      <td>-1.401324</td>\n",
       "      <td>-0.784751</td>\n",
       "    </tr>\n",
       "    <tr>\n",
       "      <th>17546</th>\n",
       "      <td>0.866025</td>\n",
       "      <td>0.62349</td>\n",
       "      <td>0.707107</td>\n",
       "      <td>1</td>\n",
       "      <td>-1.366604</td>\n",
       "      <td>-0.948599</td>\n",
       "    </tr>\n",
       "    <tr>\n",
       "      <th>17547</th>\n",
       "      <td>0.866025</td>\n",
       "      <td>0.62349</td>\n",
       "      <td>0.500000</td>\n",
       "      <td>1</td>\n",
       "      <td>-1.488124</td>\n",
       "      <td>-1.040010</td>\n",
       "    </tr>\n",
       "    <tr>\n",
       "      <th>17548</th>\n",
       "      <td>0.866025</td>\n",
       "      <td>0.62349</td>\n",
       "      <td>0.258819</td>\n",
       "      <td>1</td>\n",
       "      <td>-1.470764</td>\n",
       "      <td>-1.033111</td>\n",
       "    </tr>\n",
       "  </tbody>\n",
       "</table>\n",
       "</div>"
      ],
      "text/plain": [
       "          month      dow      Hour  is_holiday         T      load\n",
       "17544  0.866025  0.62349  0.965926           1 -1.297165 -0.513969\n",
       "17545  0.866025  0.62349  0.866025           1 -1.401324 -0.784751\n",
       "17546  0.866025  0.62349  0.707107           1 -1.366604 -0.948599\n",
       "17547  0.866025  0.62349  0.500000           1 -1.488124 -1.040010\n",
       "17548  0.866025  0.62349  0.258819           1 -1.470764 -1.033111"
      ]
     },
     "execution_count": 5,
     "metadata": {},
     "output_type": "execute_result"
    }
   ],
   "source": [
    "df.head()"
   ]
  },
  {
   "cell_type": "code",
   "execution_count": 6,
   "metadata": {
    "ExecuteTime": {
     "end_time": "2018-09-08T16:58:54.425111Z",
     "start_time": "2018-09-08T16:58:54.387287Z"
    }
   },
   "outputs": [],
   "source": [
    "train = df[:7*len(df)//8]\n",
    "# val = df[3*len(df)//4:7*len(df)//8]\n",
    "test = df[7*len(df)//8:]"
   ]
  },
  {
   "cell_type": "code",
   "execution_count": 7,
   "metadata": {
    "ExecuteTime": {
     "end_time": "2018-09-08T16:58:55.539010Z",
     "start_time": "2018-09-08T16:58:55.496448Z"
    }
   },
   "outputs": [],
   "source": [
    "nt = np.array(train)\n",
    "# nv = np.array(val)\n",
    "ntt = np.array(test)\n",
    "x_train = nt[:,:-1]\n",
    "y_train = nt[:,-1]\n",
    "x_val = ntt[:,:-1]\n",
    "y_val = ntt[:,-1]"
   ]
  },
  {
   "cell_type": "code",
   "execution_count": 8,
   "metadata": {
    "ExecuteTime": {
     "end_time": "2018-09-08T16:58:56.896765Z",
     "start_time": "2018-09-08T16:58:56.849990Z"
    }
   },
   "outputs": [],
   "source": [
    "def row2seq_rnn(data, ys, past=24, future=24):\n",
    "    xl = []\n",
    "    xfl = []\n",
    "    yl = []\n",
    "    for i in range(past, len(data)-future):\n",
    "        tmp1 = data[i-past:i]\n",
    "        tmp2 = ys[i-past:i, None]\n",
    "        xfl.append(data[i:i+future])\n",
    "        xl.append(np.append(tmp1, tmp2, axis=1))\n",
    "        yl.append(ys[i:i+future])\n",
    "    return np.array(xl), np.array(xfl), np.array(yl)\n",
    "def batch(*vars, size=512):\n",
    "    for i in range(0, min(len(v) for v in vars), size):\n",
    "        yield (v[i:i+size] for v in vars)"
   ]
  },
  {
   "cell_type": "code",
   "execution_count": 9,
   "metadata": {
    "ExecuteTime": {
     "end_time": "2018-09-08T16:58:58.631394Z",
     "start_time": "2018-09-08T16:58:57.601989Z"
    }
   },
   "outputs": [],
   "source": [
    "xt, xtf, yt = row2seq_rnn(x_train, y_train)\n",
    "xv, xvf, yv = row2seq_rnn(x_val, y_val)\n",
    "xtt, xttf, ytt = row2seq_rnn(ntt[:,:-1], ntt[:,-1])"
   ]
  },
  {
   "cell_type": "code",
   "execution_count": 10,
   "metadata": {
    "ExecuteTime": {
     "end_time": "2018-09-08T16:59:13.047138Z",
     "start_time": "2018-09-08T16:59:13.013361Z"
    }
   },
   "outputs": [],
   "source": [
    "hidden_dim = 32"
   ]
  },
  {
   "cell_type": "code",
   "execution_count": 11,
   "metadata": {
    "ExecuteTime": {
     "end_time": "2018-09-08T16:59:21.135552Z",
     "start_time": "2018-09-08T16:59:13.943495Z"
    }
   },
   "outputs": [
    {
     "name": "stdout",
     "output_type": "stream",
     "text": [
      "hi\n"
     ]
    }
   ],
   "source": [
    "g = tf.Graph()\n",
    "with g.as_default():\n",
    "    x = tf.placeholder(tf.float32, (None, None, xt.shape[2]), name='x_past')\n",
    "    y = tf.placeholder(tf.float32, (None, None), name='y')\n",
    "    xf = tf.placeholder(tf.float32, (None, None, xtf.shape[2]), name='x_future')\n",
    "    keep_prob = tf.placeholder_with_default(1.0, (), name='keep_prob')\n",
    "    is_training = tf.placeholder_with_default(False, (), name='is_training')\n",
    "    regularization = tf.placeholder_with_default(0.005, (), name='regularization')\n",
    "    \n",
    "    out_weight = tf.Variable(tf.random_normal((hidden_dim,))/hidden_dim, dtype=tf.float32, name='out_weight')\n",
    "    out_bias = tf.Variable(tf.zeros(1), dtype=tf.float32, name='out_bias')\n",
    "    \n",
    "    # Basic seq2seq LSTM\n",
    "    outputs, _  = graph_creation.s2s_lstm_fixed(x, xf, hidden_dim, 2, use_bn=True, is_training=is_training, keep_prob=keep_prob, project=True)\n",
    "    \n",
    "    preds = tf.add(tf.einsum('ijk,k->ij', outputs, out_weight), out_bias, name='predictions')\n",
    "    loss = tf.reduce_mean((y-preds)**2)\n",
    "    reg_loss = tf.nn.l2_loss(out_weight) * regularization / tf.cast(tf.shape(x)[0], tf.float32)\n",
    "    step = tf.train.AdamOptimizer().minimize(loss+reg_loss)\n",
    "    saver = tf.train.Saver()"
   ]
  },
  {
   "cell_type": "code",
   "execution_count": 17,
   "metadata": {
    "ExecuteTime": {
     "end_time": "2018-09-08T18:08:02.655622Z",
     "start_time": "2018-09-08T18:08:02.467832Z"
    }
   },
   "outputs": [],
   "source": [
    "try:\n",
    "    while True:\n",
    "        tf.get_default_session().close()\n",
    "except:\n",
    "    pass\n",
    "sess = tf.InteractiveSession(graph=g)\n",
    "saver = tf.train.Saver()\n",
    "sess.run(tf.global_variables_initializer())"
   ]
  },
  {
   "cell_type": "code",
   "execution_count": 22,
   "metadata": {
    "ExecuteTime": {
     "end_time": "2018-09-08T18:11:58.325090Z",
     "start_time": "2018-09-08T18:11:58.263407Z"
    }
   },
   "outputs": [],
   "source": [
    "def train_epoch(bs, keep_p=1.0):\n",
    "    perm = np.random.permutation(len(xt))\n",
    "    errors = []\n",
    "    for xs, xfs, ys in batch(xt[perm], xtf[perm], yt[perm], size=bs):\n",
    "        _, l = sess.run((step, loss), feed_dict={x:xs, xf:xfs, y:ys, keep_prob:keep_p, is_training:True})\n",
    "        errors.append(l)\n",
    "    return errors\n",
    "def evaluate(bs):\n",
    "    l = []\n",
    "    s = 0\n",
    "    for xs, xfs, ys in batch(xtt, xttf, ytt, size=bs):\n",
    "        l.append(sess.run(loss, feed_dict={x:xs, xf:xfs, y:ys})*len(ys))\n",
    "        s += len(ys)\n",
    "    return sum(l)/s"
   ]
  },
  {
   "cell_type": "code",
   "execution_count": 23,
   "metadata": {
    "ExecuteTime": {
     "end_time": "2018-09-08T18:11:58.720287Z",
     "start_time": "2018-09-08T18:11:58.668349Z"
    }
   },
   "outputs": [],
   "source": [
    "bs = 1024"
   ]
  },
  {
   "cell_type": "code",
   "execution_count": 24,
   "metadata": {
    "ExecuteTime": {
     "end_time": "2018-09-08T19:56:56.201616Z",
     "start_time": "2018-09-08T18:11:59.124089Z"
    }
   },
   "outputs": [
    {
     "name": "stdout",
     "output_type": "stream",
     "text": [
      "Epoch 0 (20.19s): train_loss=0.0682, test_loss=0.0432\n",
      "Epoch 1 (21.72s): train_loss=0.0623, test_loss=0.0431\n",
      "Epoch 2 (22.41s): train_loss=0.0655, test_loss=0.0392\n",
      "Epoch 3 (22.14s): train_loss=0.0544, test_loss=0.0340\n",
      "Epoch 4 (22.45s): train_loss=0.0505, test_loss=0.0338\n",
      "Epoch 5 (22.56s): train_loss=0.0486, test_loss=0.0315\n",
      "Epoch 6 (22.00s): train_loss=0.0449, test_loss=0.0294\n",
      "Epoch 7 (22.25s): train_loss=0.0487, test_loss=0.0350\n",
      "Epoch 8 (23.08s): train_loss=0.0472, test_loss=0.0312\n",
      "Epoch 9 (21.91s): train_loss=0.0430, test_loss=0.0291\n",
      "Epoch 10 (22.00s): train_loss=0.0435, test_loss=0.0297\n",
      "Epoch 11 (21.84s): train_loss=0.0464, test_loss=0.0296\n",
      "Epoch 12 (22.24s): train_loss=0.0424, test_loss=0.0305\n",
      "Epoch 13 (21.72s): train_loss=0.0408, test_loss=0.0277\n",
      "Epoch 14 (22.88s): train_loss=0.0430, test_loss=0.0270\n",
      "Epoch 15 (21.48s): train_loss=0.0422, test_loss=0.0304\n",
      "Epoch 16 (23.55s): train_loss=0.0396, test_loss=0.0260\n",
      "Epoch 17 (24.07s): train_loss=0.0434, test_loss=0.0268\n",
      "Epoch 18 (22.90s): train_loss=0.0429, test_loss=0.0264\n",
      "Epoch 19 (23.10s): train_loss=0.0409, test_loss=0.0256\n",
      "Epoch 20 (22.13s): train_loss=0.0413, test_loss=0.0259\n",
      "Epoch 21 (22.58s): train_loss=0.0399, test_loss=0.0284\n",
      "Epoch 22 (23.46s): train_loss=0.0363, test_loss=0.0239\n",
      "Epoch 23 (22.02s): train_loss=0.0390, test_loss=0.0230\n",
      "Epoch 24 (24.52s): train_loss=0.0381, test_loss=0.0271\n",
      "Epoch 25 (22.94s): train_loss=0.0361, test_loss=0.0274\n",
      "Epoch 26 (21.33s): train_loss=0.0396, test_loss=0.0242\n",
      "Epoch 27 (21.84s): train_loss=0.0371, test_loss=0.0247\n",
      "Epoch 28 (22.14s): train_loss=0.0369, test_loss=0.0232\n",
      "Epoch 29 (20.72s): train_loss=0.0344, test_loss=0.0206\n",
      "Epoch 30 (20.90s): train_loss=0.0377, test_loss=0.0219\n",
      "Epoch 31 (20.91s): train_loss=0.0353, test_loss=0.0231\n",
      "Epoch 32 (20.94s): train_loss=0.0347, test_loss=0.0210\n",
      "Epoch 33 (20.73s): train_loss=0.0405, test_loss=0.0250\n",
      "Epoch 34 (20.78s): train_loss=0.0382, test_loss=0.0228\n",
      "Epoch 35 (21.06s): train_loss=0.0363, test_loss=0.0223\n",
      "Epoch 36 (20.46s): train_loss=0.0362, test_loss=0.0218\n",
      "Epoch 37 (20.74s): train_loss=0.0358, test_loss=0.0220\n",
      "Epoch 38 (21.10s): train_loss=0.0349, test_loss=0.0202\n",
      "Epoch 39 (20.79s): train_loss=0.0360, test_loss=0.0226\n",
      "Epoch 40 (21.16s): train_loss=0.0363, test_loss=0.0210\n",
      "Epoch 41 (20.83s): train_loss=0.0361, test_loss=0.0232\n",
      "Epoch 42 (20.79s): train_loss=0.0359, test_loss=0.0238\n",
      "Epoch 43 (22.14s): train_loss=0.0361, test_loss=0.0248\n",
      "Epoch 44 (20.61s): train_loss=0.0343, test_loss=0.0205\n",
      "Epoch 45 (20.93s): train_loss=0.0375, test_loss=0.0204\n",
      "Epoch 46 (21.41s): train_loss=0.0340, test_loss=0.0228\n",
      "Epoch 47 (20.73s): train_loss=0.0363, test_loss=0.0209\n",
      "Epoch 48 (21.31s): train_loss=0.0354, test_loss=0.0189\n",
      "Epoch 49 (20.70s): train_loss=0.0362, test_loss=0.0205\n",
      "Epoch 50 (20.90s): train_loss=0.0327, test_loss=0.0190\n",
      "Epoch 51 (21.59s): train_loss=0.0382, test_loss=0.0206\n",
      "Epoch 52 (22.12s): train_loss=0.0327, test_loss=0.0213\n",
      "Epoch 53 (20.30s): train_loss=0.0354, test_loss=0.0241\n",
      "Epoch 54 (21.36s): train_loss=0.0322, test_loss=0.0224\n",
      "Epoch 55 (20.97s): train_loss=0.0315, test_loss=0.0195\n",
      "Epoch 56 (22.11s): train_loss=0.0312, test_loss=0.0190\n",
      "Epoch 57 (21.56s): train_loss=0.0329, test_loss=0.0216\n",
      "Epoch 58 (20.34s): train_loss=0.0340, test_loss=0.0241\n",
      "Epoch 59 (20.64s): train_loss=0.0328, test_loss=0.0201\n",
      "Epoch 60 (21.57s): train_loss=0.0388, test_loss=0.0223\n",
      "Epoch 61 (20.77s): train_loss=0.0329, test_loss=0.0217\n",
      "Epoch 62 (20.89s): train_loss=0.0314, test_loss=0.0194\n",
      "Epoch 63 (21.32s): train_loss=0.0360, test_loss=0.0188\n",
      "Epoch 64 (20.47s): train_loss=0.0393, test_loss=0.0202\n",
      "Epoch 65 (20.81s): train_loss=0.0321, test_loss=0.0210\n",
      "Epoch 66 (21.61s): train_loss=0.0337, test_loss=0.0216\n",
      "Epoch 67 (21.76s): train_loss=0.0370, test_loss=0.0199\n",
      "Epoch 68 (21.35s): train_loss=0.0337, test_loss=0.0200\n",
      "Epoch 69 (21.28s): train_loss=0.0343, test_loss=0.0191\n",
      "Epoch 70 (20.36s): train_loss=0.0329, test_loss=0.0213\n",
      "Epoch 71 (20.20s): train_loss=0.0355, test_loss=0.0197\n",
      "Epoch 72 (22.35s): train_loss=0.0319, test_loss=0.0189\n",
      "Epoch 73 (20.99s): train_loss=0.0321, test_loss=0.0192\n",
      "Epoch 74 (20.67s): train_loss=0.0372, test_loss=0.0198\n",
      "Epoch 75 (20.44s): train_loss=0.0308, test_loss=0.0211\n",
      "Epoch 76 (20.22s): train_loss=0.0322, test_loss=0.0195\n",
      "Epoch 77 (20.35s): train_loss=0.0383, test_loss=0.0200\n",
      "Epoch 78 (20.32s): train_loss=0.0366, test_loss=0.0193\n",
      "Epoch 79 (20.20s): train_loss=0.0328, test_loss=0.0193\n",
      "Epoch 80 (20.99s): train_loss=0.0306, test_loss=0.0182\n",
      "Epoch 81 (20.40s): train_loss=0.0315, test_loss=0.0205\n",
      "Epoch 82 (20.53s): train_loss=0.0314, test_loss=0.0196\n",
      "Epoch 83 (20.48s): train_loss=0.0318, test_loss=0.0181\n",
      "Epoch 84 (20.10s): train_loss=0.0338, test_loss=0.0180\n",
      "Epoch 85 (20.20s): train_loss=0.0337, test_loss=0.0205\n",
      "Epoch 86 (20.88s): train_loss=0.0317, test_loss=0.0186\n",
      "Epoch 87 (20.19s): train_loss=0.0307, test_loss=0.0209\n",
      "Epoch 88 (20.20s): train_loss=0.0367, test_loss=0.0184\n",
      "Epoch 89 (20.80s): train_loss=0.0299, test_loss=0.0195\n",
      "Epoch 90 (20.32s): train_loss=0.0357, test_loss=0.0177\n",
      "Epoch 91 (20.29s): train_loss=0.0305, test_loss=0.0182\n",
      "Epoch 92 (20.75s): train_loss=0.0305, test_loss=0.0195\n",
      "Epoch 93 (20.26s): train_loss=0.0305, test_loss=0.0190\n",
      "Epoch 94 (20.46s): train_loss=0.0330, test_loss=0.0181\n",
      "Epoch 95 (20.57s): train_loss=0.0368, test_loss=0.0200\n",
      "Epoch 96 (20.23s): train_loss=0.0313, test_loss=0.0197\n",
      "Epoch 97 (20.25s): train_loss=0.0288, test_loss=0.0190\n",
      "Epoch 98 (20.88s): train_loss=0.0325, test_loss=0.0172\n",
      "Epoch 99 (20.36s): train_loss=0.0357, test_loss=0.0198\n",
      "Epoch 100 (20.43s): train_loss=0.0326, test_loss=0.0192\n",
      "Epoch 101 (20.58s): train_loss=0.0298, test_loss=0.0197\n",
      "Epoch 102 (20.25s): train_loss=0.0409, test_loss=0.0187\n",
      "Epoch 103 (20.41s): train_loss=0.0318, test_loss=0.0170\n",
      "Epoch 104 (20.61s): train_loss=0.0324, test_loss=0.0201\n",
      "Epoch 105 (20.25s): train_loss=0.0314, test_loss=0.0172\n",
      "Epoch 106 (20.27s): train_loss=0.0362, test_loss=0.0195\n",
      "Epoch 107 (20.87s): train_loss=0.0296, test_loss=0.0198\n",
      "Epoch 108 (20.32s): train_loss=0.0306, test_loss=0.0205\n",
      "Epoch 109 (20.34s): train_loss=0.0329, test_loss=0.0177\n",
      "Epoch 110 (20.52s): train_loss=0.0282, test_loss=0.0180\n",
      "Epoch 111 (20.39s): train_loss=0.0297, test_loss=0.0191\n",
      "Epoch 112 (20.36s): train_loss=0.0307, test_loss=0.0167\n",
      "Epoch 113 (20.76s): train_loss=0.0288, test_loss=0.0181\n",
      "Epoch 114 (20.39s): train_loss=0.0312, test_loss=0.0184\n",
      "Epoch 115 (20.59s): train_loss=0.0309, test_loss=0.0185\n",
      "Epoch 116 (20.55s): train_loss=0.0300, test_loss=0.0189\n",
      "Epoch 117 (20.32s): train_loss=0.0295, test_loss=0.0168\n",
      "Epoch 118 (20.72s): train_loss=0.0333, test_loss=0.0192\n",
      "Epoch 119 (20.47s): train_loss=0.0320, test_loss=0.0173\n",
      "Epoch 120 (20.52s): train_loss=0.0319, test_loss=0.0197\n",
      "Epoch 121 (20.68s): train_loss=0.0281, test_loss=0.0168\n",
      "Epoch 122 (20.57s): train_loss=0.0302, test_loss=0.0188\n",
      "Epoch 123 (20.53s): train_loss=0.0341, test_loss=0.0179\n",
      "Epoch 124 (20.78s): train_loss=0.0267, test_loss=0.0186\n",
      "Epoch 125 (20.36s): train_loss=0.0372, test_loss=0.0176\n",
      "Epoch 126 (20.38s): train_loss=0.0299, test_loss=0.0170\n",
      "Epoch 127 (20.86s): train_loss=0.0344, test_loss=0.0172\n",
      "Epoch 128 (20.20s): train_loss=0.0277, test_loss=0.0177\n",
      "Epoch 129 (20.29s): train_loss=0.0295, test_loss=0.0169\n",
      "Epoch 130 (20.68s): train_loss=0.0293, test_loss=0.0214\n",
      "Epoch 131 (20.30s): train_loss=0.0276, test_loss=0.0184\n",
      "Epoch 132 (20.26s): train_loss=0.0295, test_loss=0.0174\n",
      "Epoch 133 (20.84s): train_loss=0.0279, test_loss=0.0185\n",
      "Epoch 134 (20.71s): train_loss=0.0286, test_loss=0.0170\n",
      "Epoch 135 (20.53s): train_loss=0.0298, test_loss=0.0179\n",
      "Epoch 136 (20.88s): train_loss=0.0318, test_loss=0.0184\n",
      "Epoch 137 (20.57s): train_loss=0.0287, test_loss=0.0192\n",
      "Epoch 138 (20.58s): train_loss=0.0276, test_loss=0.0187\n",
      "Epoch 139 (20.75s): train_loss=0.0318, test_loss=0.0177\n",
      "Epoch 140 (20.53s): train_loss=0.0274, test_loss=0.0181\n",
      "Epoch 141 (20.53s): train_loss=0.0282, test_loss=0.0194\n",
      "Epoch 142 (20.86s): train_loss=0.0280, test_loss=0.0177\n",
      "Epoch 143 (20.50s): train_loss=0.0279, test_loss=0.0185\n",
      "Epoch 144 (20.49s): train_loss=0.0352, test_loss=0.0173\n",
      "Epoch 145 (20.71s): train_loss=0.0323, test_loss=0.0179\n",
      "Epoch 146 (20.56s): train_loss=0.0297, test_loss=0.0169\n",
      "Epoch 147 (20.53s): train_loss=0.0296, test_loss=0.0182\n",
      "Epoch 148 (20.96s): train_loss=0.0261, test_loss=0.0175\n"
     ]
    },
    {
     "name": "stdout",
     "output_type": "stream",
     "text": [
      "Epoch 149 (20.48s): train_loss=0.0355, test_loss=0.0177\n",
      "Epoch 150 (20.56s): train_loss=0.0285, test_loss=0.0187\n",
      "Epoch 151 (20.59s): train_loss=0.0294, test_loss=0.0177\n",
      "Epoch 152 (20.40s): train_loss=0.0302, test_loss=0.0187\n",
      "Epoch 153 (20.56s): train_loss=0.0327, test_loss=0.0181\n",
      "Epoch 154 (20.50s): train_loss=0.0282, test_loss=0.0182\n",
      "Epoch 155 (20.38s): train_loss=0.0315, test_loss=0.0188\n",
      "Epoch 156 (20.69s): train_loss=0.0293, test_loss=0.0177\n",
      "Epoch 157 (20.35s): train_loss=0.0286, test_loss=0.0175\n",
      "Epoch 158 (20.28s): train_loss=0.0294, test_loss=0.0199\n",
      "Epoch 159 (20.86s): train_loss=0.0288, test_loss=0.0190\n",
      "Epoch 160 (20.21s): train_loss=0.0263, test_loss=0.0196\n",
      "Epoch 161 (20.51s): train_loss=0.0285, test_loss=0.0167\n",
      "Epoch 162 (20.80s): train_loss=0.0282, test_loss=0.0172\n",
      "Epoch 163 (20.52s): train_loss=0.0298, test_loss=0.0174\n",
      "Epoch 164 (20.43s): train_loss=0.0278, test_loss=0.0178\n",
      "Epoch 165 (20.66s): train_loss=0.0293, test_loss=0.0176\n",
      "Epoch 166 (20.28s): train_loss=0.0294, test_loss=0.0176\n",
      "Epoch 167 (20.51s): train_loss=0.0285, test_loss=0.0172\n",
      "Epoch 168 (20.92s): train_loss=0.0276, test_loss=0.0169\n",
      "Epoch 169 (20.21s): train_loss=0.0322, test_loss=0.0194\n",
      "Epoch 170 (21.34s): train_loss=0.0290, test_loss=0.0184\n",
      "Epoch 171 (20.74s): train_loss=0.0378, test_loss=0.0178\n",
      "Epoch 172 (20.46s): train_loss=0.0317, test_loss=0.0176\n",
      "Epoch 173 (20.39s): train_loss=0.0278, test_loss=0.0181\n",
      "Epoch 174 (20.78s): train_loss=0.0324, test_loss=0.0191\n",
      "Epoch 175 (20.49s): train_loss=0.0301, test_loss=0.0183\n",
      "Epoch 176 (19.91s): train_loss=0.0274, test_loss=0.0167\n",
      "Epoch 177 (21.11s): train_loss=0.0317, test_loss=0.0167\n",
      "Epoch 178 (20.61s): train_loss=0.0298, test_loss=0.0178\n",
      "Epoch 179 (20.44s): train_loss=0.0296, test_loss=0.0169\n",
      "Epoch 180 (20.96s): train_loss=0.0291, test_loss=0.0188\n",
      "Epoch 181 (20.77s): train_loss=0.0280, test_loss=0.0192\n",
      "Epoch 182 (20.67s): train_loss=0.0277, test_loss=0.0180\n",
      "Epoch 183 (21.14s): train_loss=0.0272, test_loss=0.0168\n",
      "Epoch 184 (20.54s): train_loss=0.0292, test_loss=0.0184\n",
      "Epoch 185 (20.70s): train_loss=0.0282, test_loss=0.0180\n",
      "Epoch 186 (20.77s): train_loss=0.0282, test_loss=0.0171\n",
      "Epoch 187 (20.70s): train_loss=0.0271, test_loss=0.0171\n",
      "Epoch 188 (21.11s): train_loss=0.0277, test_loss=0.0184\n",
      "Epoch 189 (20.45s): train_loss=0.0286, test_loss=0.0166\n",
      "Epoch 190 (20.51s): train_loss=0.0293, test_loss=0.0185\n",
      "Epoch 191 (21.19s): train_loss=0.0276, test_loss=0.0172\n",
      "Epoch 192 (20.31s): train_loss=0.0271, test_loss=0.0166\n",
      "Epoch 193 (20.59s): train_loss=0.0276, test_loss=0.0187\n",
      "Epoch 194 (21.01s): train_loss=0.0273, test_loss=0.0197\n",
      "Epoch 195 (20.76s): train_loss=0.0268, test_loss=0.0172\n",
      "Epoch 196 (20.59s): train_loss=0.0296, test_loss=0.0186\n",
      "Epoch 197 (20.88s): train_loss=0.0275, test_loss=0.0189\n",
      "Epoch 198 (20.68s): train_loss=0.0287, test_loss=0.0166\n",
      "Epoch 199 (20.44s): train_loss=0.0273, test_loss=0.0175\n",
      "Epoch 200 (20.97s): train_loss=0.0289, test_loss=0.0177\n",
      "Epoch 201 (20.69s): train_loss=0.0342, test_loss=0.0199\n",
      "Epoch 202 (20.72s): train_loss=0.0280, test_loss=0.0181\n",
      "Epoch 203 (21.09s): train_loss=0.0266, test_loss=0.0170\n",
      "Epoch 204 (20.73s): train_loss=0.0276, test_loss=0.0194\n",
      "Epoch 205 (20.74s): train_loss=0.0257, test_loss=0.0192\n",
      "Epoch 206 (20.90s): train_loss=0.0287, test_loss=0.0179\n",
      "Epoch 207 (20.48s): train_loss=0.0280, test_loss=0.0178\n",
      "Epoch 208 (20.44s): train_loss=0.0263, test_loss=0.0175\n",
      "Epoch 209 (20.73s): train_loss=0.0352, test_loss=0.0176\n",
      "Epoch 210 (20.68s): train_loss=0.0257, test_loss=0.0167\n",
      "Epoch 211 (20.90s): train_loss=0.0265, test_loss=0.0193\n",
      "Epoch 212 (20.77s): train_loss=0.0244, test_loss=0.0188\n",
      "Epoch 213 (20.59s): train_loss=0.0310, test_loss=0.0170\n",
      "Epoch 214 (20.93s): train_loss=0.0309, test_loss=0.0184\n",
      "Epoch 215 (20.58s): train_loss=0.0304, test_loss=0.0167\n",
      "Epoch 216 (20.75s): train_loss=0.0261, test_loss=0.0176\n",
      "Epoch 217 (20.91s): train_loss=0.0277, test_loss=0.0168\n",
      "Epoch 218 (21.14s): train_loss=0.0281, test_loss=0.0190\n",
      "Epoch 219 (19.31s): train_loss=0.0253, test_loss=0.0175\n",
      "Epoch 220 (18.88s): train_loss=0.0288, test_loss=0.0173\n",
      "Epoch 221 (18.58s): train_loss=0.0330, test_loss=0.0173\n",
      "Epoch 222 (18.56s): train_loss=0.0315, test_loss=0.0174\n",
      "Epoch 223 (18.79s): train_loss=0.0262, test_loss=0.0191\n",
      "Epoch 224 (18.63s): train_loss=0.0253, test_loss=0.0181\n",
      "Epoch 225 (18.58s): train_loss=0.0264, test_loss=0.0183\n",
      "Epoch 226 (18.67s): train_loss=0.0288, test_loss=0.0174\n",
      "Epoch 227 (18.56s): train_loss=0.0284, test_loss=0.0171\n",
      "Epoch 228 (18.48s): train_loss=0.0296, test_loss=0.0180\n",
      "Epoch 229 (18.47s): train_loss=0.0256, test_loss=0.0175\n",
      "Epoch 230 (18.49s): train_loss=0.0254, test_loss=0.0165\n",
      "Epoch 231 (18.49s): train_loss=0.0270, test_loss=0.0182\n",
      "Epoch 232 (18.50s): train_loss=0.0285, test_loss=0.0180\n",
      "Epoch 233 (18.48s): train_loss=0.0262, test_loss=0.0170\n",
      "Epoch 234 (18.45s): train_loss=0.0260, test_loss=0.0199\n",
      "Epoch 235 (18.49s): train_loss=0.0294, test_loss=0.0179\n",
      "Epoch 236 (18.54s): train_loss=0.0269, test_loss=0.0186\n",
      "Epoch 237 (18.50s): train_loss=0.0260, test_loss=0.0169\n",
      "Epoch 238 (18.42s): train_loss=0.0269, test_loss=0.0161\n",
      "Epoch 239 (18.43s): train_loss=0.0258, test_loss=0.0173\n",
      "Epoch 240 (18.49s): train_loss=0.0263, test_loss=0.0173\n",
      "Epoch 241 (18.43s): train_loss=0.0251, test_loss=0.0187\n",
      "Epoch 242 (18.44s): train_loss=0.0301, test_loss=0.0181\n",
      "Epoch 243 (18.53s): train_loss=0.0269, test_loss=0.0189\n",
      "Epoch 244 (18.42s): train_loss=0.0262, test_loss=0.0179\n",
      "Epoch 245 (18.51s): train_loss=0.0294, test_loss=0.0175\n",
      "Epoch 246 (18.50s): train_loss=0.0292, test_loss=0.0181\n",
      "Epoch 247 (18.44s): train_loss=0.0261, test_loss=0.0180\n",
      "Epoch 248 (20.73s): train_loss=0.0271, test_loss=0.0173\n",
      "Epoch 249 (26.15s): train_loss=0.0251, test_loss=0.0171\n",
      "Epoch 250 (25.37s): train_loss=0.0265, test_loss=0.0169\n",
      "Epoch 251 (29.49s): train_loss=0.0288, test_loss=0.0173\n",
      "Epoch 252 (26.78s): train_loss=0.0275, test_loss=0.0185\n",
      "Epoch 253 (27.09s): train_loss=0.0342, test_loss=0.0170\n",
      "Epoch 254 (28.60s): train_loss=0.0312, test_loss=0.0176\n",
      "Epoch 255 (23.33s): train_loss=0.0254, test_loss=0.0184\n",
      "Epoch 256 (21.10s): train_loss=0.0338, test_loss=0.0181\n",
      "Epoch 257 (22.64s): train_loss=0.0259, test_loss=0.0179\n",
      "Epoch 258 (20.85s): train_loss=0.0292, test_loss=0.0174\n",
      "Epoch 259 (24.52s): train_loss=0.0248, test_loss=0.0208\n",
      "Epoch 260 (22.48s): train_loss=0.0282, test_loss=0.0194\n",
      "Epoch 261 (22.08s): train_loss=0.0303, test_loss=0.0169\n",
      "Epoch 262 (26.81s): train_loss=0.0260, test_loss=0.0181\n",
      "Epoch 263 (24.55s): train_loss=0.0359, test_loss=0.0167\n",
      "Epoch 264 (21.74s): train_loss=0.0298, test_loss=0.0176\n",
      "Epoch 265 (21.27s): train_loss=0.0286, test_loss=0.0190\n",
      "Epoch 266 (22.01s): train_loss=0.0279, test_loss=0.0187\n",
      "Epoch 267 (23.62s): train_loss=0.0314, test_loss=0.0178\n",
      "Epoch 268 (22.46s): train_loss=0.0269, test_loss=0.0196\n",
      "Epoch 269 (21.65s): train_loss=0.0302, test_loss=0.0166\n",
      "Epoch 270 (19.87s): train_loss=0.0293, test_loss=0.0170\n",
      "Epoch 271 (19.93s): train_loss=0.0293, test_loss=0.0171\n",
      "Epoch 272 (21.30s): train_loss=0.0269, test_loss=0.0185\n",
      "Epoch 273 (21.47s): train_loss=0.0249, test_loss=0.0182\n",
      "Epoch 274 (20.98s): train_loss=0.0295, test_loss=0.0185\n",
      "Epoch 275 (22.35s): train_loss=0.0300, test_loss=0.0176\n",
      "Epoch 276 (20.48s): train_loss=0.0259, test_loss=0.0177\n",
      "Epoch 277 (23.15s): train_loss=0.0266, test_loss=0.0180\n",
      "Epoch 278 (22.72s): train_loss=0.0265, test_loss=0.0174\n",
      "Epoch 279 (21.68s): train_loss=0.0284, test_loss=0.0182\n",
      "Epoch 280 (20.71s): train_loss=0.0274, test_loss=0.0182\n",
      "Epoch 281 (21.24s): train_loss=0.0279, test_loss=0.0174\n",
      "Epoch 282 (21.19s): train_loss=0.0348, test_loss=0.0192\n",
      "Epoch 283 (22.41s): train_loss=0.0274, test_loss=0.0169\n",
      "Epoch 284 (21.68s): train_loss=0.0277, test_loss=0.0159\n",
      "Epoch 285 (21.66s): train_loss=0.0255, test_loss=0.0179\n",
      "Epoch 286 (20.69s): train_loss=0.0279, test_loss=0.0173\n",
      "Epoch 287 (21.16s): train_loss=0.0266, test_loss=0.0167\n",
      "Epoch 288 (20.97s): train_loss=0.0293, test_loss=0.0184\n",
      "Epoch 289 (21.28s): train_loss=0.0259, test_loss=0.0192\n",
      "Epoch 290 (22.76s): train_loss=0.0260, test_loss=0.0201\n",
      "Epoch 291 (22.80s): train_loss=0.0326, test_loss=0.0177\n",
      "Epoch 292 (22.15s): train_loss=0.0256, test_loss=0.0182\n",
      "Epoch 293 (22.30s): train_loss=0.0250, test_loss=0.0173\n",
      "Epoch 294 (21.77s): train_loss=0.0333, test_loss=0.0163\n",
      "Epoch 295 (21.20s): train_loss=0.0280, test_loss=0.0202\n"
     ]
    },
    {
     "name": "stdout",
     "output_type": "stream",
     "text": [
      "Epoch 296 (20.95s): train_loss=0.0250, test_loss=0.0199\n",
      "Epoch 297 (21.08s): train_loss=0.0269, test_loss=0.0188\n",
      "Epoch 298 (21.60s): train_loss=0.0286, test_loss=0.0192\n",
      "Epoch 299 (21.05s): train_loss=0.0272, test_loss=0.0189\n"
     ]
    }
   ],
   "source": [
    "train_errs = []\n",
    "test_errs = []\n",
    "for i in range(len(test_errs), 300):\n",
    "    start = time.time()\n",
    "    train_err = train_epoch(bs, 0.7)\n",
    "    train_errs.extend(train_err)\n",
    "    test_errs.append(evaluate(bs*2))\n",
    "    end = time.time()\n",
    "    if i>1 and test_errs[-1]==min(test_errs):\n",
    "        saver.save(sess, './models/vanilla/model', global_step=len(test_errs))\n",
    "    print(f'Epoch {i} ({end-start:.2f}s): train_loss={train_errs[-1]:.4f}, test_loss={test_errs[-1]:.4f}')"
   ]
  },
  {
   "cell_type": "code",
   "execution_count": 25,
   "metadata": {
    "ExecuteTime": {
     "end_time": "2018-09-08T19:56:56.270640Z",
     "start_time": "2018-09-08T19:56:56.204309Z"
    }
   },
   "outputs": [],
   "source": [
    "def predict(bs):\n",
    "    l = []\n",
    "    for xs, xfs, ys in batch(xtt, xttf,  ytt, size=bs):\n",
    "        l.append(sess.run(preds, feed_dict={x:xs, xf:xfs, y:ys}))\n",
    "    return np.concatenate(l,0)"
   ]
  },
  {
   "cell_type": "code",
   "execution_count": 26,
   "metadata": {
    "ExecuteTime": {
     "end_time": "2018-09-08T19:56:57.214910Z",
     "start_time": "2018-09-08T19:56:56.273240Z"
    }
   },
   "outputs": [
    {
     "data": {
      "text/plain": [
       "array([1846.2491, 2841.0579, 3778.1843, 4610.3965, 5355.9927, 5890.725 ,\n",
       "       6221.749 , 6425.841 , 6514.228 , 6585.705 , 6674.694 , 6760.1655,\n",
       "       6817.821 , 6884.6504, 6983.393 , 7081.6416, 7150.346 , 7216.728 ,\n",
       "       7291.4453, 7390.8623, 7552.405 , 7782.729 , 8047.8965, 8381.054 ],\n",
       "      dtype=float32)"
      ]
     },
     "execution_count": 26,
     "metadata": {},
     "output_type": "execute_result"
    }
   ],
   "source": [
    "pos = predict(bs*2)*scale + offset\n",
    "yov = ytt*scale + offset\n",
    "loss_by_horizon = ((yov-pos)**2).mean(0).astype(np.float32)\n",
    "loss_by_horizon"
   ]
  },
  {
   "cell_type": "code",
   "execution_count": 28,
   "metadata": {
    "ExecuteTime": {
     "end_time": "2018-09-08T20:27:48.136994Z",
     "start_time": "2018-09-08T20:27:47.810053Z"
    }
   },
   "outputs": [
    {
     "data": {
      "text/plain": [
       "Text(0,0.5,'RMSE')"
      ]
     },
     "execution_count": 28,
     "metadata": {},
     "output_type": "execute_result"
    },
    {
     "data": {
      "image/png": "[encoded data removed]",
      "text/plain": [
       "<matplotlib.figure.Figure at 0x120db4e80>"
      ]
     },
     "metadata": {},
     "output_type": "display_data"
    }
   ],
   "source": [
    "plt.plot(np.sqrt(loss_by_horizon))\n",
    "plt.xlabel('Prediction Horizon')\n",
    "plt.ylabel('RMSE')"
   ]
  },
  {
   "cell_type": "code",
   "execution_count": 32,
   "metadata": {
    "ExecuteTime": {
     "end_time": "2018-09-08T20:29:05.111399Z",
     "start_time": "2018-09-08T20:29:04.880931Z"
    }
   },
   "outputs": [
    {
     "data": {
      "text/plain": [
       "Text(0,0.5,'MAPE (%)')"
      ]
     },
     "execution_count": 32,
     "metadata": {},
     "output_type": "execute_result"
    },
    {
     "data": {
      "image/png": "[encoded data removed]",
      "text/plain": [
       "<matplotlib.figure.Figure at 0x10d757780>"
      ]
     },
     "metadata": {},
     "output_type": "display_data"
    }
   ],
   "source": [
    "plt.plot((np.abs(yov-pos)/yov).mean(0).astype(np.float32) * 100)\n",
    "plt.xlabel('Prediction Horizon')\n",
    "plt.ylabel(r'MAPE (%)')"
   ]
  }
 ],
 "metadata": {
  "kernelspec": {
   "display_name": "Python 3",
   "language": "python",
   "name": "python3"
  },
  "language_info": {
   "codemirror_mode": {
    "name": "ipython",
    "version": 3
   },
   "file_extension": ".py",
   "mimetype": "text/x-python",
   "name": "python",
   "nbconvert_exporter": "python",
   "pygments_lexer": "ipython3",
   "version": "3.6.5"
  }
 },
 "nbformat": 4,
 "nbformat_minor": 2
}
