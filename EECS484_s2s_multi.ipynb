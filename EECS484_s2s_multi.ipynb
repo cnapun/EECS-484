{
 "cells": [
  {
   "cell_type": "code",
   "execution_count": 2,
   "metadata": {
    "ExecuteTime": {
     "end_time": "2018-09-09T00:30:35.671679Z",
     "start_time": "2018-09-09T00:30:35.565032Z"
    }
   },
   "outputs": [],
   "source": [
    "import numpy as np\n",
    "import pandas as pd\n",
    "import matplotlib.pyplot as plt\n",
    "import tensorflow as tf\n",
    "import graph_creation\n",
    "import time\n",
    "import holidays\n",
    "import pickle\n",
    "%load_ext autoreload\n",
    "%autoreload 2\n",
    "%matplotlib inline"
   ]
  },
  {
   "cell_type": "code",
   "execution_count": 3,
   "metadata": {
    "ExecuteTime": {
     "end_time": "2018-09-09T00:30:46.244343Z",
     "start_time": "2018-09-09T00:30:37.676883Z"
    }
   },
   "outputs": [],
   "source": [
    "df = pd.read_excel('./GEFCom2014-E.xlsx')\n",
    "df['dow'] = df.Date.apply(lambda x: x.dayofweek)\n",
    "df['doy'] = df.Date.apply(lambda x: x.dayofyear)\n",
    "df['month'] = df.Date.apply(lambda x: x.month)\n",
    "df = df[df.load.isnull().sum():]\n",
    "df = df.reindex(columns=('doy', 'month', 'dow', 'Hour', 'T', 'load', 'Date'))\n",
    "offset = df.load.mean()\n",
    "scale = df.load.std()\n",
    "df.load -= df.load.mean()\n",
    "df.load /= df.load.std()\n",
    "df['T'] -= df['T'].mean()\n",
    "df['T'] /= df['T'].std()\n",
    "\n",
    "ush = holidays.US()\n",
    "df['is_holiday'] = df.Date.apply(lambda x: x in ush)\n",
    "\n",
    "df.month = np.cos(2*np.pi/12*df.month)\n",
    "df.Hour = np.cos(2*np.pi/24*df.Hour)\n",
    "df.dow = np.cos(2*np.pi/7*df.dow)\n",
    "\n",
    "df[['daily_load', 'daily_T']] = df[['load', 'T']].rolling(24).mean()\n",
    "df = df[23:].reset_index(drop=True)\n",
    "del df['Date'], df['doy']"
   ]
  },
  {
   "cell_type": "code",
   "execution_count": 4,
   "metadata": {
    "ExecuteTime": {
     "end_time": "2018-09-09T00:30:46.307692Z",
     "start_time": "2018-09-09T00:30:46.249199Z"
    }
   },
   "outputs": [
    {
     "data": {
      "text/html": [
       "<div>\n",
       "<style scoped>\n",
       "    .dataframe tbody tr th:only-of-type {\n",
       "        vertical-align: middle;\n",
       "    }\n",
       "\n",
       "    .dataframe tbody tr th {\n",
       "        vertical-align: top;\n",
       "    }\n",
       "\n",
       "    .dataframe thead th {\n",
       "        text-align: right;\n",
       "    }\n",
       "</style>\n",
       "<table border=\"1\" class=\"dataframe\">\n",
       "  <thead>\n",
       "    <tr style=\"text-align: right;\">\n",
       "      <th></th>\n",
       "      <th>month</th>\n",
       "      <th>dow</th>\n",
       "      <th>Hour</th>\n",
       "      <th>T</th>\n",
       "      <th>load</th>\n",
       "      <th>is_holiday</th>\n",
       "      <th>daily_load</th>\n",
       "      <th>daily_T</th>\n",
       "    </tr>\n",
       "  </thead>\n",
       "  <tbody>\n",
       "    <tr>\n",
       "      <th>0</th>\n",
       "      <td>0.866025</td>\n",
       "      <td>0.62349</td>\n",
       "      <td>1.000000</td>\n",
       "      <td>-1.210365</td>\n",
       "      <td>-0.557087</td>\n",
       "      <td>True</td>\n",
       "      <td>0.111100</td>\n",
       "      <td>-1.360818</td>\n",
       "    </tr>\n",
       "    <tr>\n",
       "      <th>1</th>\n",
       "      <td>0.866025</td>\n",
       "      <td>1.00000</td>\n",
       "      <td>0.965926</td>\n",
       "      <td>-1.210365</td>\n",
       "      <td>-0.905481</td>\n",
       "      <td>True</td>\n",
       "      <td>0.094786</td>\n",
       "      <td>-1.357201</td>\n",
       "    </tr>\n",
       "    <tr>\n",
       "      <th>2</th>\n",
       "      <td>0.866025</td>\n",
       "      <td>1.00000</td>\n",
       "      <td>0.866025</td>\n",
       "      <td>-1.227725</td>\n",
       "      <td>-1.077954</td>\n",
       "      <td>True</td>\n",
       "      <td>0.082570</td>\n",
       "      <td>-1.349968</td>\n",
       "    </tr>\n",
       "    <tr>\n",
       "      <th>3</th>\n",
       "      <td>0.866025</td>\n",
       "      <td>1.00000</td>\n",
       "      <td>0.707107</td>\n",
       "      <td>-1.227725</td>\n",
       "      <td>-1.153842</td>\n",
       "      <td>True</td>\n",
       "      <td>0.074018</td>\n",
       "      <td>-1.344181</td>\n",
       "    </tr>\n",
       "    <tr>\n",
       "      <th>4</th>\n",
       "      <td>0.866025</td>\n",
       "      <td>1.00000</td>\n",
       "      <td>0.500000</td>\n",
       "      <td>-1.227725</td>\n",
       "      <td>-1.153842</td>\n",
       "      <td>True</td>\n",
       "      <td>0.069275</td>\n",
       "      <td>-1.333331</td>\n",
       "    </tr>\n",
       "  </tbody>\n",
       "</table>\n",
       "</div>"
      ],
      "text/plain": [
       "      month      dow      Hour         T      load  is_holiday  daily_load  \\\n",
       "0  0.866025  0.62349  1.000000 -1.210365 -0.557087        True    0.111100   \n",
       "1  0.866025  1.00000  0.965926 -1.210365 -0.905481        True    0.094786   \n",
       "2  0.866025  1.00000  0.866025 -1.227725 -1.077954        True    0.082570   \n",
       "3  0.866025  1.00000  0.707107 -1.227725 -1.153842        True    0.074018   \n",
       "4  0.866025  1.00000  0.500000 -1.227725 -1.153842        True    0.069275   \n",
       "\n",
       "    daily_T  \n",
       "0 -1.360818  \n",
       "1 -1.357201  \n",
       "2 -1.349968  \n",
       "3 -1.344181  \n",
       "4 -1.333331  "
      ]
     },
     "execution_count": 4,
     "metadata": {},
     "output_type": "execute_result"
    }
   ],
   "source": [
    "df.head()"
   ]
  },
  {
   "cell_type": "code",
   "execution_count": 5,
   "metadata": {
    "ExecuteTime": {
     "end_time": "2018-09-09T00:30:46.345424Z",
     "start_time": "2018-09-09T00:30:46.310102Z"
    }
   },
   "outputs": [],
   "source": [
    "train = df[:7*len(df)//8]\n",
    "# val = df[3*len(df)//4:7*len(df)//8]\n",
    "test = df[7*len(df)//8:]"
   ]
  },
  {
   "cell_type": "code",
   "execution_count": 6,
   "metadata": {
    "ExecuteTime": {
     "end_time": "2018-09-09T00:30:46.435220Z",
     "start_time": "2018-09-09T00:30:46.349602Z"
    }
   },
   "outputs": [],
   "source": [
    "def s2s_sequencify_withdaily(df, n_past: int=24, n_pred: int=24, days_past: int=21):\n",
    "    x_encoder = []  # encoder inputs\n",
    "    x_decoder = []  # decoder inputs\n",
    "    daily_encoder = []\n",
    "    targets = []\n",
    "    offset = max(n_past, days_past*24)+1\n",
    "    daily_columns = ['month', 'dow', 'Hour', 'is_holiday'] + [col for col in list(df.columns) if 'daily' in col]\n",
    "    daily_df = df[daily_columns]\n",
    "    daily_array = np.array(daily_df)\n",
    "    hourly_columns = ['Hour','month','dow','is_holiday','T','load']\n",
    "    hourly_df = df[hourly_columns]\n",
    "    x = np.array(hourly_df)\n",
    "    y = x[:,-1]\n",
    "    x = x[:,:-1]\n",
    "    for i in np.arange(offset, len(y) - n_pred):\n",
    "        x_encoder.append(np.append(x[i - n_past:i],\n",
    "                            y[i - n_past:i].reshape(-1, 1), axis=1))\n",
    "        x_decoder.append(x[i:i + n_pred])\n",
    "        daily_encoder.append(daily_array[i-24*days_past-1:i-1+24:24])\n",
    "        targets.append(y[i:i + n_pred])\n",
    "    return np.array(x_encoder), np.array(x_decoder), np.array(daily_encoder), np.array(targets)\n",
    "def batch(*vars, size=512):\n",
    "    for i in range(0, min(len(v) for v in vars), size):\n",
    "        yield (v[i:i+size] for v in vars)"
   ]
  },
  {
   "cell_type": "code",
   "execution_count": 7,
   "metadata": {
    "ExecuteTime": {
     "end_time": "2018-09-09T00:30:48.076754Z",
     "start_time": "2018-09-09T00:30:46.437540Z"
    }
   },
   "outputs": [],
   "source": [
    "xt, xtf, xtd, yt = s2s_sequencify_withdaily(train)\n",
    "# xv, xvf, xvd, yv = s2s_sequencify_withdaily(val)\n",
    "xtt, xttf, xttd, ytt = s2s_sequencify_withdaily(test)"
   ]
  },
  {
   "cell_type": "code",
   "execution_count": 8,
   "metadata": {
    "ExecuteTime": {
     "end_time": "2018-09-09T00:30:48.114513Z",
     "start_time": "2018-09-09T00:30:48.080157Z"
    }
   },
   "outputs": [],
   "source": [
    "hidden_dim = 32\n",
    "daily_dim = 16"
   ]
  },
  {
   "cell_type": "code",
   "execution_count": 9,
   "metadata": {
    "ExecuteTime": {
     "end_time": "2018-09-09T00:30:59.005470Z",
     "start_time": "2018-09-09T00:30:50.755967Z"
    }
   },
   "outputs": [],
   "source": [
    "g = tf.Graph()\n",
    "with g.as_default():\n",
    "    x = tf.placeholder(tf.float32, (None, None, xt.shape[2]), name='x_past')\n",
    "    xd = tf.placeholder(tf.float32, (None, None, xt.shape[2]), name='x_daily')\n",
    "    y = tf.placeholder(tf.float32, (None, None), name='y')\n",
    "    xf = tf.placeholder(tf.float32, (None, None, xtf.shape[2]), name='x_future')\n",
    "    \n",
    "    keep_prob = tf.placeholder_with_default(1.0, (), name='keep_prob')\n",
    "    is_training = tf.placeholder_with_default(False, (), name='is_training')\n",
    "    regularization = tf.placeholder_with_default(0.005, (), name='regularization')\n",
    "    \n",
    "    out_weight = tf.Variable(tf.random_normal((hidden_dim,))/hidden_dim, dtype=tf.float32, name='out_weight')\n",
    "    out_bias = tf.Variable(tf.zeros(1), dtype=tf.float32, name='out_bias')\n",
    "    \n",
    "    # learnable affine transformation\n",
    "    outputs  = graph_creation.other_s2s_lstm_multiresolution(x, xf, xd, hidden_dim, 2, daily_dim, use_bn=True, is_training=is_training, keep_prob=keep_prob)\n",
    "    \n",
    "    preds = tf.add(tf.einsum('ijk,k->ij', outputs, out_weight), out_bias, name='predictions')\n",
    "    \n",
    "    loss = tf.reduce_mean((y-preds)**2)\n",
    "    reg_loss = tf.nn.l2_loss(out_weight) * regularization / tf.cast(tf.shape(x)[0], tf.float32)\n",
    "    step = tf.train.AdamOptimizer().minimize(loss)\n",
    "    saver = tf.train.Saver()"
   ]
  },
  {
   "cell_type": "code",
   "execution_count": 10,
   "metadata": {
    "ExecuteTime": {
     "end_time": "2018-09-09T00:31:02.216460Z",
     "start_time": "2018-09-09T00:31:02.009368Z"
    }
   },
   "outputs": [],
   "source": [
    "try:\n",
    "    while True:\n",
    "        tf.get_default_session().close()\n",
    "except:\n",
    "    pass\n",
    "sess = tf.InteractiveSession(graph=g)\n",
    "sess.run(tf.global_variables_initializer())"
   ]
  },
  {
   "cell_type": "code",
   "execution_count": 11,
   "metadata": {
    "ExecuteTime": {
     "end_time": "2018-09-09T00:31:08.570248Z",
     "start_time": "2018-09-09T00:31:08.500730Z"
    }
   },
   "outputs": [],
   "source": [
    "def train_epoch(bs, keep_p=1.0):\n",
    "    perm = np.random.permutation(len(xt))\n",
    "    errors = []\n",
    "    for xs, xfs, xds, ys in batch(xt[perm], xtf[perm], xtd[perm], yt[perm], size=bs):\n",
    "        _, l= sess.run((step, loss), feed_dict={x:xs, xf:xfs, xd:xds, y:ys, keep_prob:keep_p, is_training:True})\n",
    "        errors.append(l)\n",
    "    return errors\n",
    "\n",
    "def evaluate(bs):\n",
    "    l = []\n",
    "    s = 0\n",
    "    for xs, xfs, xds, ys in batch(xtt, xttf, xttd, ytt, size=bs):\n",
    "        l.append(sess.run(loss, feed_dict={x:xs, xf:xfs, xd:xds, y:ys})*len(ys))\n",
    "        s += len(ys)\n",
    "    return sum(l)/s"
   ]
  },
  {
   "cell_type": "code",
   "execution_count": 12,
   "metadata": {
    "ExecuteTime": {
     "end_time": "2018-09-09T00:31:10.709388Z",
     "start_time": "2018-09-09T00:31:10.660617Z"
    }
   },
   "outputs": [],
   "source": [
    "bs = 1024"
   ]
  },
  {
   "cell_type": "code",
   "execution_count": 13,
   "metadata": {
    "ExecuteTime": {
     "end_time": "2018-09-09T00:31:13.164056Z",
     "start_time": "2018-09-09T00:31:12.058789Z"
    }
   },
   "outputs": [
    {
     "data": {
      "text/plain": [
       "0.9065477612573106"
      ]
     },
     "execution_count": 13,
     "metadata": {},
     "output_type": "execute_result"
    }
   ],
   "source": [
    "evaluate(bs*2) # run to make sure everything works"
   ]
  },
  {
   "cell_type": "code",
   "execution_count": 14,
   "metadata": {
    "ExecuteTime": {
     "end_time": "2018-09-09T01:33:58.013229Z",
     "start_time": "2018-09-09T00:31:47.037252Z"
    }
   },
   "outputs": [
    {
     "name": "stdout",
     "output_type": "stream",
     "text": [
      "Epoch 0 (25.79s): train_loss=0.1362, test_loss=0.1644\n",
      "Epoch 1 (24.96s): train_loss=0.0961, test_loss=0.0585\n",
      "Epoch 2 (24.81s): train_loss=0.0744, test_loss=0.0480\n",
      "Epoch 3 (25.79s): train_loss=0.0661, test_loss=0.0415\n",
      "Epoch 4 (25.52s): train_loss=0.0610, test_loss=0.0362\n",
      "Epoch 5 (25.65s): train_loss=0.0572, test_loss=0.0349\n",
      "Epoch 6 (25.03s): train_loss=0.0550, test_loss=0.0346\n",
      "Epoch 7 (25.75s): train_loss=0.0542, test_loss=0.0311\n",
      "Epoch 8 (24.50s): train_loss=0.0504, test_loss=0.0305\n",
      "Epoch 9 (24.37s): train_loss=0.0472, test_loss=0.0307\n",
      "Epoch 10 (24.24s): train_loss=0.0472, test_loss=0.0264\n",
      "Epoch 11 (24.15s): train_loss=0.0470, test_loss=0.0260\n",
      "Epoch 12 (24.41s): train_loss=0.0471, test_loss=0.0269\n",
      "Epoch 13 (24.03s): train_loss=0.0436, test_loss=0.0277\n",
      "Epoch 14 (24.26s): train_loss=0.0429, test_loss=0.0239\n",
      "Epoch 15 (23.94s): train_loss=0.0411, test_loss=0.0244\n",
      "Epoch 16 (24.26s): train_loss=0.0437, test_loss=0.0250\n",
      "Epoch 17 (24.48s): train_loss=0.0411, test_loss=0.0248\n",
      "Epoch 18 (23.89s): train_loss=0.0420, test_loss=0.0242\n",
      "Epoch 19 (24.06s): train_loss=0.0422, test_loss=0.0232\n",
      "Epoch 20 (21.31s): train_loss=0.0404, test_loss=0.0247\n",
      "Epoch 21 (20.96s): train_loss=0.0395, test_loss=0.0244\n",
      "Epoch 22 (21.15s): train_loss=0.0384, test_loss=0.0236\n",
      "Epoch 23 (20.95s): train_loss=0.0370, test_loss=0.0222\n",
      "Epoch 24 (20.92s): train_loss=0.0411, test_loss=0.0210\n",
      "Epoch 25 (21.17s): train_loss=0.0371, test_loss=0.0206\n",
      "Epoch 26 (22.12s): train_loss=0.0390, test_loss=0.0215\n",
      "Epoch 27 (19.95s): train_loss=0.0386, test_loss=0.0226\n",
      "Epoch 28 (20.00s): train_loss=0.0378, test_loss=0.0211\n",
      "Epoch 29 (19.94s): train_loss=0.0362, test_loss=0.0210\n",
      "Epoch 30 (19.90s): train_loss=0.0369, test_loss=0.0223\n",
      "Epoch 31 (19.98s): train_loss=0.0370, test_loss=0.0220\n",
      "Epoch 32 (19.96s): train_loss=0.0395, test_loss=0.0224\n",
      "Epoch 33 (19.93s): train_loss=0.0353, test_loss=0.0206\n",
      "Epoch 34 (19.97s): train_loss=0.0385, test_loss=0.0205\n",
      "Epoch 35 (19.94s): train_loss=0.0366, test_loss=0.0203\n",
      "Epoch 36 (19.88s): train_loss=0.0376, test_loss=0.0183\n",
      "Epoch 37 (19.97s): train_loss=0.0364, test_loss=0.0248\n",
      "Epoch 38 (19.99s): train_loss=0.0350, test_loss=0.0220\n",
      "Epoch 39 (19.90s): train_loss=0.0372, test_loss=0.0199\n",
      "Epoch 40 (20.20s): train_loss=0.0357, test_loss=0.0190\n",
      "Epoch 41 (19.97s): train_loss=0.0347, test_loss=0.0183\n",
      "Epoch 42 (19.95s): train_loss=0.0341, test_loss=0.0195\n",
      "Epoch 43 (19.97s): train_loss=0.0339, test_loss=0.0196\n",
      "Epoch 44 (19.97s): train_loss=0.0338, test_loss=0.0177\n",
      "Epoch 45 (19.87s): train_loss=0.0334, test_loss=0.0180\n",
      "Epoch 46 (20.01s): train_loss=0.0346, test_loss=0.0208\n",
      "Epoch 47 (19.91s): train_loss=0.0349, test_loss=0.0209\n",
      "Epoch 48 (19.90s): train_loss=0.0332, test_loss=0.0186\n",
      "Epoch 49 (19.97s): train_loss=0.0328, test_loss=0.0200\n",
      "Epoch 50 (19.92s): train_loss=0.0341, test_loss=0.0224\n",
      "Epoch 51 (19.95s): train_loss=0.0352, test_loss=0.0197\n",
      "Epoch 52 (19.88s): train_loss=0.0362, test_loss=0.0193\n",
      "Epoch 53 (20.04s): train_loss=0.0332, test_loss=0.0183\n",
      "Epoch 54 (19.97s): train_loss=0.0342, test_loss=0.0201\n",
      "Epoch 55 (19.93s): train_loss=0.0359, test_loss=0.0182\n",
      "Epoch 56 (19.94s): train_loss=0.0344, test_loss=0.0179\n",
      "Epoch 57 (19.95s): train_loss=0.0355, test_loss=0.0200\n",
      "Epoch 58 (19.98s): train_loss=0.0341, test_loss=0.0206\n",
      "Epoch 59 (20.09s): train_loss=0.0325, test_loss=0.0175\n",
      "Epoch 60 (19.98s): train_loss=0.0327, test_loss=0.0186\n",
      "Epoch 61 (20.13s): train_loss=0.0331, test_loss=0.0202\n",
      "Epoch 62 (19.92s): train_loss=0.0340, test_loss=0.0173\n",
      "Epoch 63 (19.94s): train_loss=0.0304, test_loss=0.0188\n",
      "Epoch 64 (19.97s): train_loss=0.0347, test_loss=0.0184\n",
      "Epoch 65 (20.01s): train_loss=0.0355, test_loss=0.0205\n",
      "Epoch 66 (19.90s): train_loss=0.0329, test_loss=0.0187\n",
      "Epoch 67 (19.92s): train_loss=0.0324, test_loss=0.0191\n",
      "Epoch 68 (19.93s): train_loss=0.0327, test_loss=0.0186\n",
      "Epoch 69 (19.93s): train_loss=0.0348, test_loss=0.0191\n",
      "Epoch 70 (19.90s): train_loss=0.0325, test_loss=0.0177\n",
      "Epoch 71 (19.99s): train_loss=0.0324, test_loss=0.0193\n",
      "Epoch 72 (19.87s): train_loss=0.0312, test_loss=0.0210\n",
      "Epoch 73 (19.96s): train_loss=0.0323, test_loss=0.0193\n",
      "Epoch 74 (20.13s): train_loss=0.0302, test_loss=0.0170\n",
      "Epoch 75 (20.12s): train_loss=0.0314, test_loss=0.0181\n",
      "Epoch 76 (20.11s): train_loss=0.0295, test_loss=0.0180\n",
      "Epoch 77 (20.07s): train_loss=0.0332, test_loss=0.0181\n",
      "Epoch 78 (20.01s): train_loss=0.0309, test_loss=0.0207\n",
      "Epoch 79 (20.07s): train_loss=0.0315, test_loss=0.0188\n",
      "Epoch 80 (19.91s): train_loss=0.0337, test_loss=0.0173\n",
      "Epoch 81 (19.92s): train_loss=0.0305, test_loss=0.0161\n",
      "Epoch 82 (19.93s): train_loss=0.0283, test_loss=0.0191\n",
      "Epoch 83 (20.45s): train_loss=0.0290, test_loss=0.0185\n",
      "Epoch 84 (21.82s): train_loss=0.0302, test_loss=0.0170\n",
      "Epoch 85 (22.24s): train_loss=0.0299, test_loss=0.0171\n",
      "Epoch 86 (21.30s): train_loss=0.0311, test_loss=0.0191\n",
      "Epoch 87 (21.46s): train_loss=0.0319, test_loss=0.0177\n",
      "Epoch 88 (21.33s): train_loss=0.0301, test_loss=0.0172\n",
      "Epoch 89 (20.86s): train_loss=0.0312, test_loss=0.0157\n",
      "Epoch 90 (21.03s): train_loss=0.0298, test_loss=0.0179\n",
      "Epoch 91 (20.93s): train_loss=0.0306, test_loss=0.0167\n",
      "Epoch 92 (21.03s): train_loss=0.0288, test_loss=0.0175\n",
      "Epoch 93 (21.74s): train_loss=0.0311, test_loss=0.0178\n",
      "Epoch 94 (21.78s): train_loss=0.0309, test_loss=0.0198\n",
      "Epoch 95 (22.44s): train_loss=0.0291, test_loss=0.0178\n",
      "Epoch 96 (22.96s): train_loss=0.0303, test_loss=0.0164\n",
      "Epoch 97 (21.95s): train_loss=0.0301, test_loss=0.0193\n",
      "Epoch 98 (21.13s): train_loss=0.0289, test_loss=0.0167\n",
      "Epoch 99 (22.53s): train_loss=0.0318, test_loss=0.0170\n",
      "Epoch 100 (22.41s): train_loss=0.0295, test_loss=0.0162\n",
      "Epoch 101 (23.12s): train_loss=0.0297, test_loss=0.0168\n",
      "Epoch 102 (23.62s): train_loss=0.0300, test_loss=0.0190\n",
      "Epoch 103 (24.42s): train_loss=0.0303, test_loss=0.0183\n",
      "Epoch 104 (24.46s): train_loss=0.0304, test_loss=0.0164\n",
      "Epoch 105 (21.96s): train_loss=0.0286, test_loss=0.0174\n",
      "Epoch 106 (22.30s): train_loss=0.0287, test_loss=0.0171\n",
      "Epoch 107 (22.39s): train_loss=0.0284, test_loss=0.0171\n",
      "Epoch 108 (24.23s): train_loss=0.0293, test_loss=0.0182\n",
      "Epoch 109 (23.21s): train_loss=0.0311, test_loss=0.0191\n",
      "Epoch 110 (23.69s): train_loss=0.0281, test_loss=0.0171\n",
      "Epoch 111 (23.47s): train_loss=0.0277, test_loss=0.0162\n",
      "Epoch 112 (22.64s): train_loss=0.0296, test_loss=0.0173\n",
      "Epoch 113 (23.08s): train_loss=0.0289, test_loss=0.0161\n",
      "Epoch 114 (22.09s): train_loss=0.0291, test_loss=0.0168\n",
      "Epoch 115 (21.36s): train_loss=0.0314, test_loss=0.0156\n",
      "Epoch 116 (22.67s): train_loss=0.0308, test_loss=0.0189\n",
      "Epoch 117 (23.73s): train_loss=0.0298, test_loss=0.0191\n",
      "Epoch 118 (22.02s): train_loss=0.0300, test_loss=0.0168\n",
      "Epoch 119 (24.44s): train_loss=0.0300, test_loss=0.0166\n",
      "Epoch 120 (23.76s): train_loss=0.0336, test_loss=0.0174\n",
      "Epoch 121 (22.55s): train_loss=0.0296, test_loss=0.0182\n",
      "Epoch 122 (23.11s): train_loss=0.0275, test_loss=0.0157\n",
      "Epoch 123 (21.72s): train_loss=0.0294, test_loss=0.0166\n",
      "Epoch 124 (24.76s): train_loss=0.0285, test_loss=0.0157\n",
      "Epoch 125 (23.77s): train_loss=0.0292, test_loss=0.0168\n",
      "Epoch 126 (23.02s): train_loss=0.0281, test_loss=0.0167\n",
      "Epoch 127 (23.26s): train_loss=0.0282, test_loss=0.0164\n",
      "Epoch 128 (23.03s): train_loss=0.0291, test_loss=0.0182\n",
      "Epoch 129 (22.41s): train_loss=0.0274, test_loss=0.0170\n",
      "Epoch 130 (25.55s): train_loss=0.0279, test_loss=0.0158\n",
      "Epoch 131 (22.10s): train_loss=0.0272, test_loss=0.0164\n",
      "Epoch 132 (21.80s): train_loss=0.0276, test_loss=0.0158\n",
      "Epoch 133 (22.06s): train_loss=0.0292, test_loss=0.0153\n",
      "Epoch 134 (23.06s): train_loss=0.0278, test_loss=0.0160\n",
      "Epoch 135 (22.84s): train_loss=0.0282, test_loss=0.0158\n",
      "Epoch 136 (22.11s): train_loss=0.0299, test_loss=0.0167\n",
      "Epoch 137 (24.60s): train_loss=0.0289, test_loss=0.0179\n",
      "Epoch 138 (24.18s): train_loss=0.0286, test_loss=0.0154\n",
      "Epoch 139 (26.91s): train_loss=0.0273, test_loss=0.0153\n",
      "Epoch 140 (27.46s): train_loss=0.0277, test_loss=0.0155\n",
      "Epoch 141 (26.19s): train_loss=0.0284, test_loss=0.0155\n",
      "Epoch 142 (23.38s): train_loss=0.0282, test_loss=0.0159\n",
      "Epoch 143 (22.92s): train_loss=0.0305, test_loss=0.0157\n",
      "Epoch 144 (21.50s): train_loss=0.0282, test_loss=0.0161\n",
      "Epoch 145 (22.72s): train_loss=0.0275, test_loss=0.0172\n",
      "Epoch 146 (21.65s): train_loss=0.0283, test_loss=0.0170\n",
      "Epoch 147 (21.90s): train_loss=0.0280, test_loss=0.0159\n",
      "Epoch 148 (23.86s): train_loss=0.0286, test_loss=0.0158\n"
     ]
    },
    {
     "name": "stdout",
     "output_type": "stream",
     "text": [
      "Epoch 149 (25.21s): train_loss=0.0279, test_loss=0.0164\n",
      "Epoch 150 (23.00s): train_loss=0.0287, test_loss=0.0161\n",
      "Epoch 151 (21.87s): train_loss=0.0273, test_loss=0.0168\n",
      "Epoch 152 (21.78s): train_loss=0.0268, test_loss=0.0156\n",
      "Epoch 153 (24.69s): train_loss=0.0278, test_loss=0.0158\n",
      "Epoch 154 (24.18s): train_loss=0.0268, test_loss=0.0158\n",
      "Epoch 155 (23.45s): train_loss=0.0273, test_loss=0.0159\n",
      "Epoch 156 (22.93s): train_loss=0.0276, test_loss=0.0167\n",
      "Epoch 157 (22.26s): train_loss=0.0264, test_loss=0.0161\n",
      "Epoch 158 (21.64s): train_loss=0.0274, test_loss=0.0163\n",
      "Epoch 159 (21.85s): train_loss=0.0277, test_loss=0.0157\n",
      "Epoch 160 (23.81s): train_loss=0.0289, test_loss=0.0167\n",
      "Epoch 161 (24.08s): train_loss=0.0277, test_loss=0.0147\n",
      "Epoch 162 (21.69s): train_loss=0.0263, test_loss=0.0152\n",
      "Epoch 163 (23.43s): train_loss=0.0272, test_loss=0.0160\n",
      "Epoch 164 (21.55s): train_loss=0.0278, test_loss=0.0152\n",
      "Epoch 165 (21.83s): train_loss=0.0268, test_loss=0.0166\n",
      "Epoch 166 (22.76s): train_loss=0.0278, test_loss=0.0161\n",
      "Epoch 167 (23.10s): train_loss=0.0265, test_loss=0.0154\n"
     ]
    },
    {
     "ename": "KeyboardInterrupt",
     "evalue": "",
     "output_type": "error",
     "traceback": [
      "\u001b[0;31m---------------------------------------------------------------------------\u001b[0m",
      "\u001b[0;31mKeyboardInterrupt\u001b[0m                         Traceback (most recent call last)",
      "\u001b[0;32m<ipython-input-14-016eb4553302>\u001b[0m in \u001b[0;36m<module>\u001b[0;34m()\u001b[0m\n\u001b[1;32m      3\u001b[0m \u001b[0;32mfor\u001b[0m \u001b[0mi\u001b[0m \u001b[0;32min\u001b[0m \u001b[0mrange\u001b[0m\u001b[0;34m(\u001b[0m\u001b[0mlen\u001b[0m\u001b[0;34m(\u001b[0m\u001b[0mtest_errs\u001b[0m\u001b[0;34m)\u001b[0m\u001b[0;34m,\u001b[0m \u001b[0;36m300\u001b[0m\u001b[0;34m)\u001b[0m\u001b[0;34m:\u001b[0m\u001b[0;34m\u001b[0m\u001b[0m\n\u001b[1;32m      4\u001b[0m     \u001b[0mstart\u001b[0m \u001b[0;34m=\u001b[0m \u001b[0mtime\u001b[0m\u001b[0;34m.\u001b[0m\u001b[0mtime\u001b[0m\u001b[0;34m(\u001b[0m\u001b[0;34m)\u001b[0m\u001b[0;34m\u001b[0m\u001b[0m\n\u001b[0;32m----> 5\u001b[0;31m     \u001b[0mtrain_err\u001b[0m \u001b[0;34m=\u001b[0m \u001b[0mtrain_epoch\u001b[0m\u001b[0;34m(\u001b[0m\u001b[0mbs\u001b[0m\u001b[0;34m,\u001b[0m \u001b[0;36m0.7\u001b[0m\u001b[0;34m)\u001b[0m\u001b[0;34m\u001b[0m\u001b[0m\n\u001b[0m\u001b[1;32m      6\u001b[0m     \u001b[0mtrain_errs\u001b[0m\u001b[0;34m.\u001b[0m\u001b[0mextend\u001b[0m\u001b[0;34m(\u001b[0m\u001b[0mtrain_err\u001b[0m\u001b[0;34m)\u001b[0m\u001b[0;34m\u001b[0m\u001b[0m\n\u001b[1;32m      7\u001b[0m     \u001b[0mtest_errs\u001b[0m\u001b[0;34m.\u001b[0m\u001b[0mappend\u001b[0m\u001b[0;34m(\u001b[0m\u001b[0mevaluate\u001b[0m\u001b[0;34m(\u001b[0m\u001b[0mbs\u001b[0m\u001b[0;34m*\u001b[0m\u001b[0;36m2\u001b[0m\u001b[0;34m)\u001b[0m\u001b[0;34m)\u001b[0m\u001b[0;34m\u001b[0m\u001b[0m\n",
      "\u001b[0;32m<ipython-input-11-0ec983eb7360>\u001b[0m in \u001b[0;36mtrain_epoch\u001b[0;34m(bs, keep_p)\u001b[0m\n\u001b[1;32m      3\u001b[0m     \u001b[0merrors\u001b[0m \u001b[0;34m=\u001b[0m \u001b[0;34m[\u001b[0m\u001b[0;34m]\u001b[0m\u001b[0;34m\u001b[0m\u001b[0m\n\u001b[1;32m      4\u001b[0m     \u001b[0;32mfor\u001b[0m \u001b[0mxs\u001b[0m\u001b[0;34m,\u001b[0m \u001b[0mxfs\u001b[0m\u001b[0;34m,\u001b[0m \u001b[0mxds\u001b[0m\u001b[0;34m,\u001b[0m \u001b[0mys\u001b[0m \u001b[0;32min\u001b[0m \u001b[0mbatch\u001b[0m\u001b[0;34m(\u001b[0m\u001b[0mxt\u001b[0m\u001b[0;34m[\u001b[0m\u001b[0mperm\u001b[0m\u001b[0;34m]\u001b[0m\u001b[0;34m,\u001b[0m \u001b[0mxtf\u001b[0m\u001b[0;34m[\u001b[0m\u001b[0mperm\u001b[0m\u001b[0;34m]\u001b[0m\u001b[0;34m,\u001b[0m \u001b[0mxtd\u001b[0m\u001b[0;34m[\u001b[0m\u001b[0mperm\u001b[0m\u001b[0;34m]\u001b[0m\u001b[0;34m,\u001b[0m \u001b[0myt\u001b[0m\u001b[0;34m[\u001b[0m\u001b[0mperm\u001b[0m\u001b[0;34m]\u001b[0m\u001b[0;34m,\u001b[0m \u001b[0msize\u001b[0m\u001b[0;34m=\u001b[0m\u001b[0mbs\u001b[0m\u001b[0;34m)\u001b[0m\u001b[0;34m:\u001b[0m\u001b[0;34m\u001b[0m\u001b[0m\n\u001b[0;32m----> 5\u001b[0;31m         \u001b[0m_\u001b[0m\u001b[0;34m,\u001b[0m \u001b[0ml\u001b[0m\u001b[0;34m=\u001b[0m \u001b[0msess\u001b[0m\u001b[0;34m.\u001b[0m\u001b[0mrun\u001b[0m\u001b[0;34m(\u001b[0m\u001b[0;34m(\u001b[0m\u001b[0mstep\u001b[0m\u001b[0;34m,\u001b[0m \u001b[0mloss\u001b[0m\u001b[0;34m)\u001b[0m\u001b[0;34m,\u001b[0m \u001b[0mfeed_dict\u001b[0m\u001b[0;34m=\u001b[0m\u001b[0;34m{\u001b[0m\u001b[0mx\u001b[0m\u001b[0;34m:\u001b[0m\u001b[0mxs\u001b[0m\u001b[0;34m,\u001b[0m \u001b[0mxf\u001b[0m\u001b[0;34m:\u001b[0m\u001b[0mxfs\u001b[0m\u001b[0;34m,\u001b[0m \u001b[0mxd\u001b[0m\u001b[0;34m:\u001b[0m\u001b[0mxds\u001b[0m\u001b[0;34m,\u001b[0m \u001b[0my\u001b[0m\u001b[0;34m:\u001b[0m\u001b[0mys\u001b[0m\u001b[0;34m,\u001b[0m \u001b[0mkeep_prob\u001b[0m\u001b[0;34m:\u001b[0m\u001b[0mkeep_p\u001b[0m\u001b[0;34m,\u001b[0m \u001b[0mis_training\u001b[0m\u001b[0;34m:\u001b[0m\u001b[0;32mTrue\u001b[0m\u001b[0;34m}\u001b[0m\u001b[0;34m)\u001b[0m\u001b[0;34m\u001b[0m\u001b[0m\n\u001b[0m\u001b[1;32m      6\u001b[0m         \u001b[0merrors\u001b[0m\u001b[0;34m.\u001b[0m\u001b[0mappend\u001b[0m\u001b[0;34m(\u001b[0m\u001b[0ml\u001b[0m\u001b[0;34m)\u001b[0m\u001b[0;34m\u001b[0m\u001b[0m\n\u001b[1;32m      7\u001b[0m     \u001b[0;32mreturn\u001b[0m \u001b[0merrors\u001b[0m\u001b[0;34m\u001b[0m\u001b[0m\n",
      "\u001b[0;32m/usr/local/lib/python3.6/site-packages/tensorflow/python/client/session.py\u001b[0m in \u001b[0;36mrun\u001b[0;34m(self, fetches, feed_dict, options, run_metadata)\u001b[0m\n\u001b[1;32m    898\u001b[0m     \u001b[0;32mtry\u001b[0m\u001b[0;34m:\u001b[0m\u001b[0;34m\u001b[0m\u001b[0m\n\u001b[1;32m    899\u001b[0m       result = self._run(None, fetches, feed_dict, options_ptr,\n\u001b[0;32m--> 900\u001b[0;31m                          run_metadata_ptr)\n\u001b[0m\u001b[1;32m    901\u001b[0m       \u001b[0;32mif\u001b[0m \u001b[0mrun_metadata\u001b[0m\u001b[0;34m:\u001b[0m\u001b[0;34m\u001b[0m\u001b[0m\n\u001b[1;32m    902\u001b[0m         \u001b[0mproto_data\u001b[0m \u001b[0;34m=\u001b[0m \u001b[0mtf_session\u001b[0m\u001b[0;34m.\u001b[0m\u001b[0mTF_GetBuffer\u001b[0m\u001b[0;34m(\u001b[0m\u001b[0mrun_metadata_ptr\u001b[0m\u001b[0;34m)\u001b[0m\u001b[0;34m\u001b[0m\u001b[0m\n",
      "\u001b[0;32m/usr/local/lib/python3.6/site-packages/tensorflow/python/client/session.py\u001b[0m in \u001b[0;36m_run\u001b[0;34m(self, handle, fetches, feed_dict, options, run_metadata)\u001b[0m\n\u001b[1;32m   1133\u001b[0m     \u001b[0;32mif\u001b[0m \u001b[0mfinal_fetches\u001b[0m \u001b[0;32mor\u001b[0m \u001b[0mfinal_targets\u001b[0m \u001b[0;32mor\u001b[0m \u001b[0;34m(\u001b[0m\u001b[0mhandle\u001b[0m \u001b[0;32mand\u001b[0m \u001b[0mfeed_dict_tensor\u001b[0m\u001b[0;34m)\u001b[0m\u001b[0;34m:\u001b[0m\u001b[0;34m\u001b[0m\u001b[0m\n\u001b[1;32m   1134\u001b[0m       results = self._do_run(handle, final_targets, final_fetches,\n\u001b[0;32m-> 1135\u001b[0;31m                              feed_dict_tensor, options, run_metadata)\n\u001b[0m\u001b[1;32m   1136\u001b[0m     \u001b[0;32melse\u001b[0m\u001b[0;34m:\u001b[0m\u001b[0;34m\u001b[0m\u001b[0m\n\u001b[1;32m   1137\u001b[0m       \u001b[0mresults\u001b[0m \u001b[0;34m=\u001b[0m \u001b[0;34m[\u001b[0m\u001b[0;34m]\u001b[0m\u001b[0;34m\u001b[0m\u001b[0m\n",
      "\u001b[0;32m/usr/local/lib/python3.6/site-packages/tensorflow/python/client/session.py\u001b[0m in \u001b[0;36m_do_run\u001b[0;34m(self, handle, target_list, fetch_list, feed_dict, options, run_metadata)\u001b[0m\n\u001b[1;32m   1314\u001b[0m     \u001b[0;32mif\u001b[0m \u001b[0mhandle\u001b[0m \u001b[0;32mis\u001b[0m \u001b[0;32mNone\u001b[0m\u001b[0;34m:\u001b[0m\u001b[0;34m\u001b[0m\u001b[0m\n\u001b[1;32m   1315\u001b[0m       return self._do_call(_run_fn, feeds, fetches, targets, options,\n\u001b[0;32m-> 1316\u001b[0;31m                            run_metadata)\n\u001b[0m\u001b[1;32m   1317\u001b[0m     \u001b[0;32melse\u001b[0m\u001b[0;34m:\u001b[0m\u001b[0;34m\u001b[0m\u001b[0m\n\u001b[1;32m   1318\u001b[0m       \u001b[0;32mreturn\u001b[0m \u001b[0mself\u001b[0m\u001b[0;34m.\u001b[0m\u001b[0m_do_call\u001b[0m\u001b[0;34m(\u001b[0m\u001b[0m_prun_fn\u001b[0m\u001b[0;34m,\u001b[0m \u001b[0mhandle\u001b[0m\u001b[0;34m,\u001b[0m \u001b[0mfeeds\u001b[0m\u001b[0;34m,\u001b[0m \u001b[0mfetches\u001b[0m\u001b[0;34m)\u001b[0m\u001b[0;34m\u001b[0m\u001b[0m\n",
      "\u001b[0;32m/usr/local/lib/python3.6/site-packages/tensorflow/python/client/session.py\u001b[0m in \u001b[0;36m_do_call\u001b[0;34m(self, fn, *args)\u001b[0m\n\u001b[1;32m   1320\u001b[0m   \u001b[0;32mdef\u001b[0m \u001b[0m_do_call\u001b[0m\u001b[0;34m(\u001b[0m\u001b[0mself\u001b[0m\u001b[0;34m,\u001b[0m \u001b[0mfn\u001b[0m\u001b[0;34m,\u001b[0m \u001b[0;34m*\u001b[0m\u001b[0margs\u001b[0m\u001b[0;34m)\u001b[0m\u001b[0;34m:\u001b[0m\u001b[0;34m\u001b[0m\u001b[0m\n\u001b[1;32m   1321\u001b[0m     \u001b[0;32mtry\u001b[0m\u001b[0;34m:\u001b[0m\u001b[0;34m\u001b[0m\u001b[0m\n\u001b[0;32m-> 1322\u001b[0;31m       \u001b[0;32mreturn\u001b[0m \u001b[0mfn\u001b[0m\u001b[0;34m(\u001b[0m\u001b[0;34m*\u001b[0m\u001b[0margs\u001b[0m\u001b[0;34m)\u001b[0m\u001b[0;34m\u001b[0m\u001b[0m\n\u001b[0m\u001b[1;32m   1323\u001b[0m     \u001b[0;32mexcept\u001b[0m \u001b[0merrors\u001b[0m\u001b[0;34m.\u001b[0m\u001b[0mOpError\u001b[0m \u001b[0;32mas\u001b[0m \u001b[0me\u001b[0m\u001b[0;34m:\u001b[0m\u001b[0;34m\u001b[0m\u001b[0m\n\u001b[1;32m   1324\u001b[0m       \u001b[0mmessage\u001b[0m \u001b[0;34m=\u001b[0m \u001b[0mcompat\u001b[0m\u001b[0;34m.\u001b[0m\u001b[0mas_text\u001b[0m\u001b[0;34m(\u001b[0m\u001b[0me\u001b[0m\u001b[0;34m.\u001b[0m\u001b[0mmessage\u001b[0m\u001b[0;34m)\u001b[0m\u001b[0;34m\u001b[0m\u001b[0m\n",
      "\u001b[0;32m/usr/local/lib/python3.6/site-packages/tensorflow/python/client/session.py\u001b[0m in \u001b[0;36m_run_fn\u001b[0;34m(feed_dict, fetch_list, target_list, options, run_metadata)\u001b[0m\n\u001b[1;32m   1305\u001b[0m       \u001b[0mself\u001b[0m\u001b[0;34m.\u001b[0m\u001b[0m_extend_graph\u001b[0m\u001b[0;34m(\u001b[0m\u001b[0;34m)\u001b[0m\u001b[0;34m\u001b[0m\u001b[0m\n\u001b[1;32m   1306\u001b[0m       return self._call_tf_sessionrun(\n\u001b[0;32m-> 1307\u001b[0;31m           options, feed_dict, fetch_list, target_list, run_metadata)\n\u001b[0m\u001b[1;32m   1308\u001b[0m \u001b[0;34m\u001b[0m\u001b[0m\n\u001b[1;32m   1309\u001b[0m     \u001b[0;32mdef\u001b[0m \u001b[0m_prun_fn\u001b[0m\u001b[0;34m(\u001b[0m\u001b[0mhandle\u001b[0m\u001b[0;34m,\u001b[0m \u001b[0mfeed_dict\u001b[0m\u001b[0;34m,\u001b[0m \u001b[0mfetch_list\u001b[0m\u001b[0;34m)\u001b[0m\u001b[0;34m:\u001b[0m\u001b[0;34m\u001b[0m\u001b[0m\n",
      "\u001b[0;32m/usr/local/lib/python3.6/site-packages/tensorflow/python/client/session.py\u001b[0m in \u001b[0;36m_call_tf_sessionrun\u001b[0;34m(self, options, feed_dict, fetch_list, target_list, run_metadata)\u001b[0m\n\u001b[1;32m   1407\u001b[0m       return tf_session.TF_SessionRun_wrapper(\n\u001b[1;32m   1408\u001b[0m           \u001b[0mself\u001b[0m\u001b[0;34m.\u001b[0m\u001b[0m_session\u001b[0m\u001b[0;34m,\u001b[0m \u001b[0moptions\u001b[0m\u001b[0;34m,\u001b[0m \u001b[0mfeed_dict\u001b[0m\u001b[0;34m,\u001b[0m \u001b[0mfetch_list\u001b[0m\u001b[0;34m,\u001b[0m \u001b[0mtarget_list\u001b[0m\u001b[0;34m,\u001b[0m\u001b[0;34m\u001b[0m\u001b[0m\n\u001b[0;32m-> 1409\u001b[0;31m           run_metadata)\n\u001b[0m\u001b[1;32m   1410\u001b[0m     \u001b[0;32melse\u001b[0m\u001b[0;34m:\u001b[0m\u001b[0;34m\u001b[0m\u001b[0m\n\u001b[1;32m   1411\u001b[0m       \u001b[0;32mwith\u001b[0m \u001b[0merrors\u001b[0m\u001b[0;34m.\u001b[0m\u001b[0mraise_exception_on_not_ok_status\u001b[0m\u001b[0;34m(\u001b[0m\u001b[0;34m)\u001b[0m \u001b[0;32mas\u001b[0m \u001b[0mstatus\u001b[0m\u001b[0;34m:\u001b[0m\u001b[0;34m\u001b[0m\u001b[0m\n",
      "\u001b[0;31mKeyboardInterrupt\u001b[0m: "
     ]
    }
   ],
   "source": [
    "train_errs = []\n",
    "test_errs = []\n",
    "for i in range(len(test_errs), 300):\n",
    "    start = time.time()\n",
    "    train_err = train_epoch(bs, 0.7)\n",
    "    train_errs.extend(train_err)\n",
    "    test_errs.append(evaluate(bs*2))\n",
    "    end = time.time()\n",
    "\n",
    "    if i>1 and test_errs[-1] == min(test_errs):\n",
    "        saver.save(sess, './models/multires/model', global_step=len(test_errs))\n",
    "    print(f'Epoch {i} ({end-start:.2f}s): train_loss={train_errs[-1]:.4f}, test_loss={test_errs[-1]:.4f}')"
   ]
  },
  {
   "cell_type": "code",
   "execution_count": null,
   "metadata": {
    "ExecuteTime": {
     "end_time": "2018-09-09T01:33:58.014990Z",
     "start_time": "2018-09-09T00:31:55.787Z"
    }
   },
   "outputs": [],
   "source": [
    "def predict(bs=bs, kp=1.0):\n",
    "    ps = []\n",
    "    for xs, xfs, xds, ys in batch(xtt, xttf, xttd, ytt, size=bs):\n",
    "        ps.append(sess.run(preds, feed_dict={x:xs, xf:xfs, xd:xds, keep_prob:kp}))\n",
    "    return np.concatenate(ps,0)"
   ]
  },
  {
   "cell_type": "code",
   "execution_count": null,
   "metadata": {
    "ExecuteTime": {
     "end_time": "2018-09-09T01:33:58.016437Z",
     "start_time": "2018-09-09T00:31:57.994Z"
    }
   },
   "outputs": [],
   "source": [
    "pos = predict(bs*2)*scale + offset\n",
    "yov = ytt*scale + offset\n",
    "loss_by_horizon = ((yov-pos)**2).mean(0).astype(np.float32)\n",
    "loss_by_horizon"
   ]
  },
  {
   "cell_type": "code",
   "execution_count": null,
   "metadata": {
    "ExecuteTime": {
     "end_time": "2018-09-09T01:33:58.017988Z",
     "start_time": "2018-09-09T00:32:10.678Z"
    }
   },
   "outputs": [],
   "source": [
    "plt.plot(np.sqrt(loss_by_horizon))\n",
    "plt.xlabel('Prediction Horizon')\n",
    "plt.ylabel('RMSE')"
   ]
  },
  {
   "cell_type": "code",
   "execution_count": null,
   "metadata": {
    "ExecuteTime": {
     "end_time": "2018-09-09T01:33:58.019602Z",
     "start_time": "2018-09-09T00:32:18.622Z"
    }
   },
   "outputs": [],
   "source": [
    "plt.plot((np.abs(yov-pos)/yov).mean(0).astype(np.float32) * 100)\n",
    "plt.xlabel('Prediction Horizon')\n",
    "plt.ylabel(r'MAPE (%)')"
   ]
  },
  {
   "cell_type": "code",
   "execution_count": null,
   "metadata": {},
   "outputs": [],
   "source": []
  }
 ],
 "metadata": {
  "kernelspec": {
   "display_name": "Python 3",
   "language": "python",
   "name": "python3"
  },
  "language_info": {
   "codemirror_mode": {
    "name": "ipython",
    "version": 3
   },
   "file_extension": ".py",
   "mimetype": "text/x-python",
   "name": "python",
   "nbconvert_exporter": "python",
   "pygments_lexer": "ipython3",
   "version": "3.6.5"
  }
 },
 "nbformat": 4,
 "nbformat_minor": 2
}
